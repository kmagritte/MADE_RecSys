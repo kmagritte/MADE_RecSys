{
  "cells": [
    {
      "cell_type": "code",
      "execution_count": null,
      "metadata": {
        "id": "CrjZ-Ma78a0c"
      },
      "outputs": [],
      "source": [
        "!pip install pytorch_lightning\n",
        "!pip install tensorboardX"
      ]
    },
    {
      "cell_type": "code",
      "execution_count": 14,
      "metadata": {
        "id": "1CmEukeg8Njd"
      },
      "outputs": [],
      "source": [
        "from collections import namedtuple\n",
        "\n",
        "import pandas as pd\n",
        "import numpy as np\n",
        "\n",
        "import torch\n",
        "import torch.nn as nn\n",
        "import torch.nn.functional as F\n",
        "import torch.utils.data as td\n",
        "\n",
        "import pytorch_lightning as pl\n",
        "\n",
        "import os\n",
        "import tqdm\n",
        "import json\n",
        "import sklearn.metrics as sm\n",
        "\n",
        "import tensorboardX as tb\n",
        "# import tensorflow as tf\n",
        "import datetime, os\n",
        "\n",
        "import matplotlib.pyplot as plt\n",
        "import seaborn as sns\n",
        "\n",
        "import warnings\n",
        "warnings.filterwarnings(\"ignore\")\n",
        "\n",
        "np.random.seed(31337)"
      ]
    },
    {
      "cell_type": "markdown",
      "metadata": {
        "id": "O4cLf0zW8Njf"
      },
      "source": [
        "## Create pairs (first track, subsequent track, time)"
      ]
    },
    {
      "cell_type": "code",
      "execution_count": null,
      "metadata": {
        "collapsed": true,
        "id": "DHUIFjU0Z09C"
      },
      "outputs": [],
      "source": [
        "# from google.colab import drive\n",
        "# drive.mount('/content/drive')"
      ]
    },
    {
      "cell_type": "code",
      "execution_count": null,
      "metadata": {
        "id": "MKlgAqq-8Njg"
      },
      "outputs": [],
      "source": [
        "# DATA_DIR = \"/content/drive/MyDrive/recsys-itmo-2023/seminar_05/\"\n",
        "# data = pd.read_json(DATA_DIR + \"data.json\", lines=True)"
      ]
    },
    {
      "cell_type": "code",
      "execution_count": 3,
      "metadata": {
        "id": "Y9aeehkP8Njh"
      },
      "outputs": [],
      "source": [
        "DATA_PATH = \"../botify/data/data_contextual/\"\n",
        "data = pd.concat([\n",
        "    pd.read_json(os.path.join(DATA_PATH + f\"data_{i}.json\"), lines=True) for i in range(8)\n",
        "])"
      ]
    },
    {
      "cell_type": "code",
      "execution_count": 4,
      "metadata": {
        "id": "zj9JftT88Njh"
      },
      "outputs": [],
      "source": [
        "Pair = namedtuple(\"Session\", [\"user\", \"start\", \"track\", \"time\"])\n",
        "\n",
        "def get_pairs(user_data):\n",
        "    pairs = []\n",
        "    first = None\n",
        "    for _, row in user_data.sort_values(\"timestamp\").iterrows():\n",
        "        if first is None:\n",
        "            first = row[\"track\"]\n",
        "        else:\n",
        "            pairs.append(Pair(row[\"user\"], first, row[\"track\"], row[\"time\"]))\n",
        "        \n",
        "        if row[\"message\"] == \"last\":\n",
        "            first = None\n",
        "    return pairs"
      ]
    },
    {
      "cell_type": "code",
      "execution_count": 5,
      "metadata": {
        "id": "4c_Ifi9_8Nji"
      },
      "outputs": [],
      "source": [
        "pairs = pd.DataFrame(\n",
        "    data\n",
        "    .groupby(\"user\")\n",
        "    .apply(get_pairs)\n",
        "    .explode()\n",
        "    .values\n",
        "    .tolist(),\n",
        "    columns=[\"user\", \"start\", \"track\", \"time\"]\n",
        ")"
      ]
    },
    {
      "cell_type": "code",
      "execution_count": 6,
      "metadata": {
        "id": "eA0LzG3Z8Nji"
      },
      "outputs": [
        {
          "data": {
            "image/png": "[encoded data removed]",
            "text/plain": [
              "<Figure size 640x480 with 1 Axes>"
            ]
          },
          "metadata": {},
          "output_type": "display_data"
        }
      ],
      "source": [
        "figure, ax = plt.subplots()\n",
        "sns.histplot(pairs[\"time\"], ax=ax)\n",
        "pass"
      ]
    },
    {
      "cell_type": "markdown",
      "metadata": {
        "id": "PkYDflFK8Njj"
      },
      "source": [
        "## Train Model"
      ]
    },
    {
      "cell_type": "code",
      "execution_count": 7,
      "metadata": {
        "id": "cE63YQAi8Njj"
      },
      "outputs": [
        {
          "data": {
            "text/plain": [
              "(2880605, 359359, 360423)"
            ]
          },
          "execution_count": 7,
          "metadata": {},
          "output_type": "execute_result"
        }
      ],
      "source": [
        "rdm = np.random.random(len(pairs))\n",
        "train_data = pairs[rdm < 0.8]\n",
        "val_data = pairs[(rdm >= 0.8) & (rdm < 0.9)]\n",
        "test_data = pairs[rdm >= 0.9]\n",
        "\n",
        "len(train_data), len(val_data), len(test_data)"
      ]
    },
    {
      "cell_type": "code",
      "execution_count": 8,
      "metadata": {
        "id": "2N72w3Ym8Njl"
      },
      "outputs": [],
      "source": [
        "class ContextualRanker(pl.LightningModule):\n",
        "    def __init__(self, embedding_dim=10):\n",
        "        super().__init__()\n",
        "        self.embedding_dim = embedding_dim\n",
        "        \n",
        "        # We won't have embeddings for everything, but that's ok\n",
        "        self.context = nn.Embedding(num_embeddings=50000, embedding_dim=self.embedding_dim)\n",
        "        self.track = nn.Embedding(num_embeddings=50000, embedding_dim=self.embedding_dim)\n",
        "\n",
        "    def forward(self, x):\n",
        "        context = self.context(x[:, 0]) # start track\n",
        "        track = self.track(x[:, 1]) # next track\n",
        "        return torch.sum(context * track, dim=1)\n",
        "            \n",
        "    def step(self, batch, batch_idx, metric, prog_bar=False):\n",
        "        x, y = batch\n",
        "        predictions = self.forward(x)\n",
        "        loss = F.mse_loss(predictions, y.float(), reduction='mean')\n",
        "        self.log(metric, loss, prog_bar=prog_bar)\n",
        "        return loss\n",
        "\n",
        "    def test_step(self, batch, batch_idx, prog_bar=False):\n",
        "        x, y = batch\n",
        "        predictions = self.forward(x)\n",
        "        targets = y[:, 0].float()\n",
        "        avgs = y[:, 1].float()\n",
        "        rdms = y[:, 2].float()\n",
        "\n",
        "        loss = F.mse_loss(predictions, targets, reduction='mean')\n",
        "        avg_loss = F.mse_loss(avgs, targets, reduction='mean')\n",
        "        rdm_loss = F.mse_loss(rdms, targets, reduction='mean')\n",
        "\n",
        "        self.log(\"test_loss\", loss, prog_bar=prog_bar)\n",
        "        self.log(\"avg_loss\", avg_loss, prog_bar=prog_bar)\n",
        "        self.log(\"rdm_loss\", rdm_loss, prog_bar=prog_bar)\n",
        "\n",
        "    def training_step(self, batch, batch_idx):\n",
        "        return self.step(batch, batch_idx, \"train_loss\")\n",
        "    \n",
        "    def validation_step(self, batch, batch_idx):\n",
        "        return self.step(batch, batch_idx, \"val_loss\", True)\n",
        "        \n",
        "    def configure_optimizers(self):\n",
        "        optimizer = torch.optim.Adam(self.parameters(), lr=1e-3, weight_decay=1e-5)\n",
        "        lr_scheduler = torch.optim.lr_scheduler.ReduceLROnPlateau(optimizer, patience=3, verbose=True)\n",
        "        scheduler = {\n",
        "            'scheduler': lr_scheduler,\n",
        "            'reduce_on_plateau': True,\n",
        "            'monitor': 'val_loss'\n",
        "        }\n",
        "        return [optimizer], [scheduler]"
      ]
    },
    {
      "cell_type": "code",
      "execution_count": 9,
      "metadata": {
        "id": "XSZTEW7h9d3p"
      },
      "outputs": [],
      "source": [
        "class ContextualRankerData(pl.LightningDataModule):\n",
        "  def __init__(self, train_data, val_data, test_data, features):\n",
        "      super().__init__()\n",
        "      self.train_data = train_data\n",
        "      self.val_data = val_data\n",
        "      self.test_data = test_data\n",
        "      self.features = features\n",
        "\n",
        "  def prepare_data(self):\n",
        "      self.test_data = self.test_data.assign(rdm = np.random.random(len(self.test_data))).assign(avg = self.train_data[\"time\"].mean())\n",
        "\n",
        "  def setup(self, stage=None):\n",
        "      if stage == \"fit\" or stage is None:\n",
        "        self.train_dataset = td.TensorDataset(\n",
        "            torch.from_numpy(self.train_data[self.features].values), \n",
        "            torch.from_numpy(self.train_data[\"time\"].values)\n",
        "            )\n",
        "\n",
        "        self.val_dataset = td.TensorDataset(\n",
        "            torch.from_numpy(self.val_data[self.features].values), \n",
        "            torch.from_numpy(self.val_data[\"time\"].values)\n",
        "            )\n",
        "        \n",
        "      if stage == \"test\" or stage is None:  \n",
        "        self.test_dataset = td.TensorDataset(\n",
        "            torch.from_numpy(self.test_data[self.features].values),\n",
        "            torch.from_numpy(self.test_data[[\"time\", \"avg\", \"rdm\"]].values)\n",
        "        )\n",
        "  def train_dataloader(self):\n",
        "      return td.DataLoader(self.train_dataset, batch_size=2048, shuffle=True, num_workers=0)\n",
        "\n",
        "  def val_dataloader(self):\n",
        "      return td.DataLoader(self.val_dataset, batch_size=2048, num_workers=0)\n",
        "\n",
        "  def test_dataloader(self):\n",
        "      return td.DataLoader(self.test_dataset, batch_size=512, shuffle=False, num_workers=0)"
      ]
    },
    {
      "cell_type": "code",
      "execution_count": 15,
      "metadata": {
        "id": "JWZ8cqTZ8Njm"
      },
      "outputs": [
        {
          "name": "stderr",
          "output_type": "stream",
          "text": [
            "GPU available: True (cuda), used: True\n",
            "TPU available: False, using: 0 TPU cores\n",
            "IPU available: False, using: 0 IPUs\n",
            "HPU available: False, using: 0 HPUs\n"
          ]
        }
      ],
      "source": [
        "net = ContextualRanker(embedding_dim=100)\n",
        "data_module = ContextualRankerData(train_data, val_data, test_data, features = [\"start\", \"track\"])\n",
        "\n",
        "checkpoint_callback = pl.callbacks.ModelCheckpoint(monitor=\"val_loss\")\n",
        "\n",
        "trainer = pl.Trainer(\n",
        "    max_epochs=300,\n",
        "    accelerator='gpu', \n",
        "    devices=1,\n",
        "    callbacks=[\n",
        "        pl.callbacks.early_stopping.EarlyStopping(monitor=\"val_loss\", patience=5),\n",
        "        pl.callbacks.LearningRateMonitor(logging_interval=\"step\"),\n",
        "        checkpoint_callback\n",
        "    ])"
      ]
    },
    {
      "cell_type": "code",
      "execution_count": 12,
      "metadata": {
        "id": "omCmoxVhGfJ2"
      },
      "outputs": [],
      "source": [
        "# %load_ext tensorboard\n",
        "# %tensorboard --logdir /content/lightning_logs --host localhost"
      ]
    },
    {
      "cell_type": "code",
      "execution_count": 16,
      "metadata": {
        "id": "Sqy8qDr98Njm"
      },
      "outputs": [
        {
          "name": "stderr",
          "output_type": "stream",
          "text": [
            "You are using a CUDA device ('NVIDIA GeForce RTX 3050 Ti Laptop GPU') that has Tensor Cores. To properly utilize them, you should set `torch.set_float32_matmul_precision('medium' | 'high')` which will trade-off precision for performance. For more details, read https://pytorch.org/docs/stable/generated/torch.set_float32_matmul_precision.html#torch.set_float32_matmul_precision\n",
            "LOCAL_RANK: 0 - CUDA_VISIBLE_DEVICES: [0]\n",
            "\n",
            "  | Name    | Type      | Params\n",
            "--------------------------------------\n",
            "0 | context | Embedding | 5.0 M \n",
            "1 | track   | Embedding | 5.0 M \n",
            "--------------------------------------\n",
            "10.0 M    Trainable params\n",
            "0         Non-trainable params\n",
            "10.0 M    Total params\n",
            "40.000    Total estimated model params size (MB)\n"
          ]
        },
        {
          "name": "stdout",
          "output_type": "stream",
          "text": [
            "Epoch 41: 100%|██████████| 1407/1407 [00:34<00:00, 40.83it/s, v_num=2, val_loss=0.106]Epoch 00042: reducing learning rate of group 0 to 1.0000e-04.\n",
            "Epoch 53: 100%|██████████| 1407/1407 [00:36<00:00, 38.81it/s, v_num=2, val_loss=0.104]Epoch 00054: reducing learning rate of group 0 to 1.0000e-05.\n",
            "Epoch 57: 100%|██████████| 1407/1407 [00:33<00:00, 41.81it/s, v_num=2, val_loss=0.104]Epoch 00058: reducing learning rate of group 0 to 1.0000e-06.\n",
            "Epoch 60: 100%|██████████| 1407/1407 [00:37<00:00, 37.38it/s, v_num=2, val_loss=0.104]\n"
          ]
        }
      ],
      "source": [
        "trainer.fit(\n",
        "    net, \n",
        "    data_module\n",
        ")"
      ]
    },
    {
      "cell_type": "code",
      "execution_count": 17,
      "metadata": {
        "id": "_IeB7jzb8Njn"
      },
      "outputs": [],
      "source": [
        "best = ContextualRanker.load_from_checkpoint(checkpoint_callback.best_model_path, embedding_dim=100)"
      ]
    },
    {
      "cell_type": "code",
      "execution_count": 18,
      "metadata": {
        "id": "HTUgc8_hQ7N0"
      },
      "outputs": [
        {
          "name": "stderr",
          "output_type": "stream",
          "text": [
            "You are using a CUDA device ('NVIDIA GeForce RTX 3050 Ti Laptop GPU') that has Tensor Cores. To properly utilize them, you should set `torch.set_float32_matmul_precision('medium' | 'high')` which will trade-off precision for performance. For more details, read https://pytorch.org/docs/stable/generated/torch.set_float32_matmul_precision.html#torch.set_float32_matmul_precision\n",
            "LOCAL_RANK: 0 - CUDA_VISIBLE_DEVICES: [0]\n"
          ]
        },
        {
          "name": "stdout",
          "output_type": "stream",
          "text": [
            "Testing DataLoader 0: 100%|██████████| 704/704 [00:03<00:00, 200.80it/s]\n",
            "────────────────────────────────────────────────────────────────────────────────────────────────────────────────────────\n",
            "       Test metric             DataLoader 0\n",
            "────────────────────────────────────────────────────────────────────────────────────────────────────────────────────────\n",
            "        avg_loss            0.1869836300611496\n",
            "        rdm_loss            0.2737100422382355\n",
            "        test_loss           0.10369131714105606\n",
            "────────────────────────────────────────────────────────────────────────────────────────────────────────────────────────\n"
          ]
        },
        {
          "data": {
            "text/plain": [
              "[{'test_loss': 0.10369131714105606,\n",
              "  'avg_loss': 0.1869836300611496,\n",
              "  'rdm_loss': 0.2737100422382355}]"
            ]
          },
          "execution_count": 18,
          "metadata": {},
          "output_type": "execute_result"
        }
      ],
      "source": [
        "trainer.test(best, data_module)"
      ]
    },
    {
      "cell_type": "markdown",
      "metadata": {
        "id": "tRZLUR9_8Njo"
      },
      "source": [
        "## Compute top recommendations"
      ]
    },
    {
      "cell_type": "code",
      "execution_count": 20,
      "metadata": {
        "id": "5UrLSjgt8Njo"
      },
      "outputs": [],
      "source": [
        "track_meta = pd.read_json(\"../botify/data/tracks.json\", lines=True)"
      ]
    },
    {
      "cell_type": "code",
      "execution_count": 21,
      "metadata": {
        "id": "PqwVsVyO8Njp"
      },
      "outputs": [],
      "source": [
        "context_embeddings = dict(best.named_parameters())[\"context.weight\"].data.cpu().numpy()\n",
        "track_embeddings = dict(best.named_parameters())[\"track.weight\"].data.cpu().numpy()"
      ]
    },
    {
      "cell_type": "code",
      "execution_count": 22,
      "metadata": {
        "id": "-z1VTPGh8Njp"
      },
      "outputs": [
        {
          "data": {
            "text/html": [
              "<div>\n",
              "<style scoped>\n",
              "    .dataframe tbody tr th:only-of-type {\n",
              "        vertical-align: middle;\n",
              "    }\n",
              "\n",
              "    .dataframe tbody tr th {\n",
              "        vertical-align: top;\n",
              "    }\n",
              "\n",
              "    .dataframe thead th {\n",
              "        text-align: right;\n",
              "    }\n",
              "</style>\n",
              "<table border=\"1\" class=\"dataframe\">\n",
              "  <thead>\n",
              "    <tr style=\"text-align: right;\">\n",
              "      <th></th>\n",
              "      <th>artist</th>\n",
              "      <th>title</th>\n",
              "      <th>track</th>\n",
              "    </tr>\n",
              "  </thead>\n",
              "  <tbody>\n",
              "    <tr>\n",
              "      <th>0</th>\n",
              "      <td>Jack Johnson</td>\n",
              "      <td>The Cove</td>\n",
              "      <td>0</td>\n",
              "    </tr>\n",
              "    <tr>\n",
              "      <th>1</th>\n",
              "      <td>Billy Preston</td>\n",
              "      <td>Nothing from Nothing</td>\n",
              "      <td>1</td>\n",
              "    </tr>\n",
              "    <tr>\n",
              "      <th>2</th>\n",
              "      <td>Paco De Lucia</td>\n",
              "      <td>Entre Dos Aguas</td>\n",
              "      <td>2</td>\n",
              "    </tr>\n",
              "    <tr>\n",
              "      <th>3</th>\n",
              "      <td>Josh Rouse</td>\n",
              "      <td>Under Cold Blue Stars</td>\n",
              "      <td>3</td>\n",
              "    </tr>\n",
              "    <tr>\n",
              "      <th>4</th>\n",
              "      <td>The Dead 60s</td>\n",
              "      <td>Riot Radio (Soundtrack Version)</td>\n",
              "      <td>4</td>\n",
              "    </tr>\n",
              "  </tbody>\n",
              "</table>\n",
              "</div>"
            ],
            "text/plain": [
              "          artist                            title  track\n",
              "0   Jack Johnson                         The Cove      0\n",
              "1  Billy Preston             Nothing from Nothing      1\n",
              "2  Paco De Lucia                  Entre Dos Aguas      2\n",
              "3     Josh Rouse            Under Cold Blue Stars      3\n",
              "4   The Dead 60s  Riot Radio (Soundtrack Version)      4"
            ]
          },
          "execution_count": 22,
          "metadata": {},
          "output_type": "execute_result"
        }
      ],
      "source": [
        "track_meta.head()"
      ]
    },
    {
      "cell_type": "code",
      "execution_count": 23,
      "metadata": {
        "id": "m7_A20no8Njp"
      },
      "outputs": [
        {
          "name": "stderr",
          "output_type": "stream",
          "text": []
        }
      ],
      "source": [
        "k = 100\n",
        "with open(\"../botify/data/tracks_hw.json\", \"w\") as rf:\n",
        "    for _, track in tqdm.tqdm(track_meta.iterrows()):\n",
        "        embedding = context_embeddings[track[\"track\"]]\n",
        "        neighbours = np.argpartition(-np.dot(track_embeddings, embedding), k)[:k]\n",
        "        \n",
        "        recommendation = dict(track)\n",
        "        recommendation[\"recommendations\"] = neighbours.tolist()\n",
        "        \n",
        "        rf.write(json.dumps(recommendation) + \"\\n\")"
      ]
    },
    {
      "cell_type": "code",
      "execution_count": null,
      "metadata": {
        "id": "QhS_o_ff8Njp"
      },
      "outputs": [],
      "source": [
        "track = 3916\n",
        "embedding = context_embeddings[track]\n",
        "track_meta.loc[track_meta[\"track\"] == track, [\"artist\", \"title\"]]"
      ]
    },
    {
      "cell_type": "code",
      "execution_count": null,
      "metadata": {
        "id": "gGFHEN8g8Njq"
      },
      "outputs": [],
      "source": [
        "k = 10\n",
        "neighbours = np.argpartition(-np.dot(track_embeddings, embedding), k)[:k]\n",
        "track_meta.loc[track_meta[\"track\"].isin(neighbours), [\"artist\", \"title\"]]"
      ]
    },
    {
      "cell_type": "code",
      "execution_count": null,
      "metadata": {
        "id": "ymCblQht8Njq"
      },
      "outputs": [],
      "source": []
    }
  ],
  "metadata": {
    "accelerator": "GPU",
    "colab": {
      "provenance": []
    },
    "gpuClass": "standard",
    "kernelspec": {
      "display_name": ".venv",
      "language": "python",
      "name": "python3"
    },
    "language_info": {
      "codemirror_mode": {
        "name": "ipython",
        "version": 3
      },
      "file_extension": ".py",
      "mimetype": "text/x-python",
      "name": "python",
      "nbconvert_exporter": "python",
      "pygments_lexer": "ipython3",
      "version": "3.8.10"
    }
  },
  "nbformat": 4,
  "nbformat_minor": 0
}
